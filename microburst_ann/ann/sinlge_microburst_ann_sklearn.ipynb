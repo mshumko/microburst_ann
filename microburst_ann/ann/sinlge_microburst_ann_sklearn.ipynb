{
 "metadata": {
  "language_info": {
   "codemirror_mode": {
    "name": "ipython",
    "version": 3
   },
   "file_extension": ".py",
   "mimetype": "text/x-python",
   "name": "python",
   "nbconvert_exporter": "python",
   "pygments_lexer": "ipython3",
   "version": "3.8.5-final"
  },
  "orig_nbformat": 2,
  "kernelspec": {
   "name": "Python 3.8.5 64-bit",
   "display_name": "Python 3.8.5 64-bit",
   "metadata": {
    "interpreter": {
     "hash": "aee8b7b246df8f9039afb4144a1f6fd8d2ca17a180786b69acc140d282b71a49"
    }
   }
  }
 },
 "nbformat": 4,
 "nbformat_minor": 2,
 "cells": [
  {
   "cell_type": "code",
   "execution_count": 1,
   "metadata": {},
   "outputs": [],
   "source": [
    "import pathlib\n",
    "\n",
    "import pandas as pd\n",
    "import numpy as np\n",
    "import matplotlib.pyplot as plt\n",
    "import sklearn.metrics\n",
    "import progressbar\n",
    "\n",
    "import microburst_ann.config as config\n",
    "import microburst_ann.misc.load_hilt_data as load_hilt_data"
   ]
  },
  {
   "cell_type": "code",
   "execution_count": 2,
   "metadata": {},
   "outputs": [],
   "source": [
    "train_path = pathlib.Path(config.PROJECT_DIR, 'data', 'train.csv')\n",
    "test_path = pathlib.Path(config.PROJECT_DIR, 'data', 'test.csv')"
   ]
  },
  {
   "cell_type": "code",
   "execution_count": 3,
   "metadata": {},
   "outputs": [],
   "source": [
    "# Load the csv files\n",
    "train_df = pd.read_csv(train_path, index_col=0)\n",
    "test_df = pd.read_csv(test_path, index_col=0)\n",
    "# Drop the NaN rows\n",
    "train_df.dropna(inplace=True)\n",
    "test_df.dropna(inplace=True)\n",
    "# Pop off the training and test labels and make them into their own pd.DataFrames\n",
    "train_labels = train_df.pop('label')\n",
    "test_labels = test_df.pop('label')"
   ]
  },
  {
   "cell_type": "markdown",
   "metadata": {},
   "source": [
    "# Visualize the microburst and nonmicroburst training and test data sets"
   ]
  },
  {
   "cell_type": "code",
   "execution_count": null,
   "metadata": {},
   "outputs": [],
   "source": [
    "plot_n = (5,5)\n",
    "rand_idx = np.random.randint(0, train_df.shape[0], size=plot_n)\n",
    "fig, ax = plt.subplots(nrows=plot_n[0], ncols=plot_n[1], figsize=(12,8))\n",
    "\n",
    "for i, ax_row in enumerate(ax):\n",
    "    for j, ax_i in enumerate(ax_row):\n",
    "        ax_i.plot(train_df.iloc[rand_idx[i,j]])\n",
    "        ax_i.text(1, 1, f'label={train_labels.iloc[rand_idx[i,j]]}', \n",
    "                    va='top', ha='right', transform=ax_i.transAxes)\n",
    "        ax_i.axis('off')\n",
    "plt.suptitle('Train Dataset', fontsize=20);"
   ]
  },
  {
   "cell_type": "code",
   "execution_count": null,
   "metadata": {},
   "outputs": [],
   "source": [
    "plot_n = (5,5)\n",
    "rand_idx = np.random.randint(0, test_df.shape[0], size=plot_n)\n",
    "fig, ax = plt.subplots(nrows=plot_n[0], ncols=plot_n[1], figsize=(12,8))\n",
    "\n",
    "for i, ax_row in enumerate(ax):\n",
    "    for j, ax_i in enumerate(ax_row):\n",
    "        ax_i.plot(test_df.iloc[rand_idx[i,j]])\n",
    "        ax_i.text(1, 1, f'label={test_labels.iloc[rand_idx[i,j]]}', \n",
    "                    va='top', ha='right', transform=ax_i.transAxes)\n",
    "        ax_i.axis('off')\n",
    "plt.suptitle('Test Dataset', fontsize=20);"
   ]
  },
  {
   "cell_type": "code",
   "execution_count": null,
   "metadata": {},
   "outputs": [],
   "source": []
  }
 ]
}